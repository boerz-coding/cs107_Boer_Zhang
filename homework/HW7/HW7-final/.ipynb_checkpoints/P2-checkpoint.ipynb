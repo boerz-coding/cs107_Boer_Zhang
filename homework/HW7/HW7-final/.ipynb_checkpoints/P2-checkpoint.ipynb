{
 "cells": [
  {
   "cell_type": "code",
   "execution_count": 2,
   "metadata": {},
   "outputs": [],
   "source": [
    "import sqlite3 as sql3\n",
    "# Part A\n",
    "db = sql3.connect('regression.sqlite')\n",
    "cursor = db.cursor()\n",
    "cursor.execute(\"DROP TABLE IF EXISTS model_params\")\n",
    "cursor.execute(\"DROP TABLE IF EXISTS model_coefs\")\n",
    "cursor.execute(\"DROP TABLE IF EXISTS model_results\")\n",
    "\n",
    "cursor.execute('''CREATE TABLE model_params\n",
    "            (id INTEGER, desc TEXT, param_name TEXT, value BLOB)''')\n",
    "cursor.execute('''CREATE TABLE model_coefs\n",
    "            (id INTEGER, desc TEXT, feature_name TEXT, value REAL)''')\n",
    "cursor.execute('''CREATE TABLE model_results\n",
    "            (id INTEGER, desc TEXT, train_score REAL, test_score REAL)''')\n",
    "\n",
    "db.commit()\n",
    "\n"
   ]
  },
  {
   "cell_type": "code",
   "execution_count": null,
   "metadata": {},
   "outputs": [],
   "source": []
  }
 ],
 "metadata": {
  "kernelspec": {
   "display_name": "Python 3",
   "language": "python",
   "name": "python3"
  },
  "language_info": {
   "codemirror_mode": {
    "name": "ipython",
    "version": 3
   },
   "file_extension": ".py",
   "mimetype": "text/x-python",
   "name": "python",
   "nbconvert_exporter": "python",
   "pygments_lexer": "ipython3",
   "version": "3.8.3"
  }
 },
 "nbformat": 4,
 "nbformat_minor": 4
}
