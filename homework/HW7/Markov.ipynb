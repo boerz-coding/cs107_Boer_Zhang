{
 "cells": [
  {
   "cell_type": "code",
   "execution_count": 2,
   "metadata": {},
   "outputs": [],
   "source": [
    "import numpy as np\n",
    "import random as random\n",
    "\n",
    "weather_array=np.array(['sunny','cloudy','rainy','snowy','windy','hailing'])\n",
    "\n",
    "class Markov:\n",
    "    def __init__(self,day_zero_weather=None): # You will need to modify this header line later in Part C\n",
    "        #print(\"init\")\n",
    "        self.data = self.load_data()\n",
    "        self.day_zero_weather=day_zero_weather\n",
    "        self.day_zero_num =self.weather2num(day_zero_weather)\n",
    "        #print(\"??\",day_zero_weather,self.day_zero_num)\n",
    "    @staticmethod\n",
    "    def weather2num(weather_string):\n",
    "        #print(\"weather2num\")\n",
    "        weather_num= -1\n",
    "        for i in range(0,6):\n",
    "            #print(\"weather_string:\",weather_string)\n",
    "            if(weather_string == weather_array[i]):\n",
    "                weather_num=i\n",
    "                \n",
    "        if weather_num == -1:\n",
    "            raise Exception('Weather not recognized')\n",
    "            \n",
    "        return weather_num\n",
    "    def load_data(self, file_path='./weather.csv'):\n",
    "        return np.genfromtxt(file_path,delimiter=\",\")\n",
    "    \n",
    "    \n",
    "    def get_prob(self, current_day_weather, next_day_weather): \n",
    "                \n",
    "        cweather_num=self.weather2num(current_day_weather)      \n",
    "        nweather_num=self.weather2num(next_day_weather)\n",
    "          \n",
    "        \n",
    "        return self.data[cweather_num,nweather_num]\n",
    "    \n",
    "    def __iter__(self):\n",
    "        #print(\"day0num:\",self.day_zero_num)\n",
    "        if(self.day_zero_weather is None):\n",
    "            raise Exception('No initial value')\n",
    "        return MarkovIterator(self.day_zero_num,self.get_prob)\n",
    "    \n",
    "    def _simulate_weather_for_day(self,day):\n",
    "        if(self.day_zero_weather is None):\n",
    "            raise Exception('No initial value')\n",
    "        if(day==0):\n",
    "            return self.day_zero_weather\n",
    "        \n",
    "        \n",
    "        it=self.__iter__()\n",
    "        for i in range(0,day-1):\n",
    "            next(it)\n",
    "        return next(it)\n",
    "        \n",
    "    def get_weather_for_day(self,day, trials):\n",
    "        wlist=[];\n",
    "        for sid in range(0,trials):\n",
    "            #wlist.append(weather_array[1])\n",
    "            wlist.append(self._simulate_weather_for_day(day))\n",
    "        return wlist\n",
    "        \n",
    "class MarkovIterator:\n",
    "    def __init__(self,cweather_num,get_prob):\n",
    "        self.cweather_num=cweather_num\n",
    "        self.get_prob=get_prob\n",
    "        self.nit=0\n",
    "    def __iter__(self):\n",
    "        return self\n",
    "    def __next__(self):\n",
    "        #print(\"cweather\", self.cweather_num)\n",
    "        if(self.nit>=20):\n",
    "            raise StopIteration()\n",
    "        self.cweather_num=random.choices([0,1,2,3,4,5],weights=[self.get_prob(weather_array[self.cweather_num],weather_array[i]) for i in range(0,6)])[0] #[0]means converting single element list to a single number\n",
    "        \n",
    "        self.nit+=1\n",
    "        \n",
    "        return  weather_array[self.cweather_num]\n",
    "    \n",
    "    \n",
    "    "
   ]
  },
  {
   "cell_type": "code",
   "execution_count": 3,
   "metadata": {},
   "outputs": [
    {
     "name": "stdout",
     "output_type": "stream",
     "text": [
      "0.2\n"
     ]
    }
   ],
   "source": [
    "##P1A.py\n",
    "import Markov as mk\n",
    "weather_today = mk.Markov()\n",
    "weather_today.load_data(file_path='./weather.csv')\n",
    "print(weather_today.get_prob('windy', 'cloudy')) # This line should print 0.2"
   ]
  },
  {
   "cell_type": "code",
   "execution_count": 9,
   "metadata": {},
   "outputs": [
    {
     "name": "stdout",
     "output_type": "stream",
     "text": [
      "New York: {'sunny': 18, 'cloudy': 35, 'rainy': 20, 'snowy': 18, 'windy': 6, 'hailing': 3}\n",
      "Chicago: {'sunny': 23, 'cloudy': 30, 'rainy': 18, 'snowy': 9, 'windy': 12, 'hailing': 8}\n",
      "Seattle: {'sunny': 30, 'cloudy': 26, 'rainy': 11, 'snowy': 17, 'windy': 12, 'hailing': 4}\n",
      "Boston: {'sunny': 27, 'cloudy': 25, 'rainy': 17, 'snowy': 11, 'windy': 11, 'hailing': 9}\n",
      "Miami: {'sunny': 31, 'cloudy': 35, 'rainy': 17, 'snowy': 5, 'windy': 7, 'hailing': 5}\n",
      "Los Angeles: {'sunny': 37, 'cloudy': 23, 'rainy': 17, 'snowy': 8, 'windy': 10, 'hailing': 5}\n",
      "San Francisco: {'sunny': 23, 'cloudy': 34, 'rainy': 11, 'snowy': 17, 'windy': 12, 'hailing': 3}\n",
      "Most likely weather in seven days\n",
      "----------------------------------\n",
      "New York: cloudy\n",
      "Chicago: cloudy\n",
      "Seattle: sunny\n",
      "Boston: sunny\n",
      "Miami: cloudy\n",
      "Los Angeles: sunny\n",
      "San Francisco: cloudy\n"
     ]
    }
   ],
   "source": [
    "##P1C.py\n",
    "city_weather = {\n",
    "    'New York': 'rainy',\n",
    "    'Chicago': 'snowy',\n",
    "    'Seattle': 'rainy',\n",
    "    'Boston': 'hailing',\n",
    "    'Miami': 'windy',\n",
    "    'Los Angeles': 'cloudy',\n",
    "    'San Francisco': 'windy'\n",
    "}\n",
    "city_maxweather={}\n",
    "for city in city_weather:\n",
    "    weather_today=Markov(city_weather[city])\n",
    "    prediction=weather_today.get_weather_for_day(7, 100)\n",
    "    result_dic={}\n",
    "    for weather_k in weather_array:\n",
    "        result_dic[weather_k]=0\n",
    "    for result_k in prediction:\n",
    "        result_dic[result_k]+=1\n",
    "    print(city+\":\",result_dic)\n",
    "    weather_maxday=-1;\n",
    "    weather_maxweather=None\n",
    "    for weather_k in weather_array:\n",
    "        if result_dic[weather_k]>weather_maxday:\n",
    "            weather_maxweather=weather_k\n",
    "            weather_maxday=result_dic[weather_k]\n",
    "    city_maxweather[city]=weather_maxweather\n",
    "        \n",
    "    \n",
    "print(\"Most likely weather in seven days\")\n",
    "print(\"----------------------------------\")\n",
    "for city in city_weather:\n",
    "    print(city+\":\",city_maxweather[city])\n",
    "\n",
    "        \n",
    "    "
   ]
  },
  {
   "cell_type": "code",
   "execution_count": 173,
   "metadata": {},
   "outputs": [
    {
     "name": "stdout",
     "output_type": "stream",
     "text": [
      "{'sunny': 0, 'cloudy': 0, 'rainy': 0, 'snowy': 0, 'windy': 0, 'hailing': 0}\n"
     ]
    }
   ],
   "source": [
    "result_dic={}\n",
    "for weather_k in weather_array:\n",
    "        result_dic[weather_k]=0\n",
    "print(result_dic)"
   ]
  },
  {
   "cell_type": "code",
   "execution_count": 154,
   "metadata": {},
   "outputs": [
    {
     "data": {
      "text/plain": [
       "['cloudy',\n",
       " 'sunny',\n",
       " 'cloudy',\n",
       " 'cloudy',\n",
       " 'sunny',\n",
       " 'windy',\n",
       " 'windy',\n",
       " 'cloudy',\n",
       " 'sunny',\n",
       " 'cloudy']"
      ]
     },
     "execution_count": 154,
     "metadata": {},
     "output_type": "execute_result"
    }
   ],
   "source": [
    "weather_today=Markov('cloudy')\n",
    "weather_today.get_weather_for_day(1, 10)"
   ]
  },
  {
   "cell_type": "code",
   "execution_count": 155,
   "metadata": {},
   "outputs": [
    {
     "name": "stdout",
     "output_type": "stream",
     "text": [
      "rainy\n",
      "sunny\n",
      "sunny\n",
      "cloudy\n",
      "cloudy\n"
     ]
    }
   ],
   "source": [
    "for s in weather_today:\n",
    "    print(s)"
   ]
  },
  {
   "cell_type": "code",
   "execution_count": 141,
   "metadata": {},
   "outputs": [
    {
     "ename": "Exception",
     "evalue": "Weather not recognized",
     "output_type": "error",
     "traceback": [
      "\u001b[0;31m---------------------------------------------------------\u001b[0m",
      "\u001b[0;31mException\u001b[0m               Traceback (most recent call last)",
      "\u001b[0;32m<ipython-input-141-dd4a39dad313>\u001b[0m in \u001b[0;36m<module>\u001b[0;34m\u001b[0m\n\u001b[0;32m----> 1\u001b[0;31m \u001b[0mweather_today\u001b[0m \u001b[0;34m=\u001b[0m \u001b[0mMarkov\u001b[0m\u001b[0;34m(\u001b[0m\u001b[0;34m)\u001b[0m\u001b[0;34m\u001b[0m\u001b[0;34m\u001b[0m\u001b[0m\n\u001b[0m\u001b[1;32m      2\u001b[0m \u001b[0mweather_today\u001b[0m\u001b[0;34m.\u001b[0m\u001b[0mload_data\u001b[0m\u001b[0;34m(\u001b[0m\u001b[0mfile_path\u001b[0m\u001b[0;34m=\u001b[0m\u001b[0;34m'./weather.csv'\u001b[0m\u001b[0;34m)\u001b[0m\u001b[0;34m\u001b[0m\u001b[0;34m\u001b[0m\u001b[0m\n\u001b[1;32m      3\u001b[0m \u001b[0mprint\u001b[0m\u001b[0;34m(\u001b[0m\u001b[0mweather_today\u001b[0m\u001b[0;34m.\u001b[0m\u001b[0mget_prob\u001b[0m\u001b[0;34m(\u001b[0m\u001b[0;34m'sunny'\u001b[0m\u001b[0;34m,\u001b[0m \u001b[0;34m'cloudy'\u001b[0m\u001b[0;34m)\u001b[0m\u001b[0;34m)\u001b[0m \u001b[0;31m# This line should print 0.3\u001b[0m\u001b[0;34m\u001b[0m\u001b[0;34m\u001b[0m\u001b[0m\n",
      "\u001b[0;32m<ipython-input-138-719dc4c755bc>\u001b[0m in \u001b[0;36m__init__\u001b[0;34m(self, day_zero_weather)\u001b[0m\n\u001b[1;32m      9\u001b[0m         \u001b[0mself\u001b[0m\u001b[0;34m.\u001b[0m\u001b[0mdata\u001b[0m \u001b[0;34m=\u001b[0m \u001b[0mself\u001b[0m\u001b[0;34m.\u001b[0m\u001b[0mload_data\u001b[0m\u001b[0;34m(\u001b[0m\u001b[0;34m)\u001b[0m\u001b[0;34m\u001b[0m\u001b[0;34m\u001b[0m\u001b[0m\n\u001b[1;32m     10\u001b[0m         \u001b[0mself\u001b[0m\u001b[0;34m.\u001b[0m\u001b[0mday_zero_weather\u001b[0m\u001b[0;34m=\u001b[0m\u001b[0mday_zero_weather\u001b[0m\u001b[0;34m\u001b[0m\u001b[0;34m\u001b[0m\u001b[0m\n\u001b[0;32m---> 11\u001b[0;31m         \u001b[0mself\u001b[0m\u001b[0;34m.\u001b[0m\u001b[0mday_zero_num\u001b[0m \u001b[0;34m=\u001b[0m\u001b[0mself\u001b[0m\u001b[0;34m.\u001b[0m\u001b[0mweather2num\u001b[0m\u001b[0;34m(\u001b[0m\u001b[0mday_zero_weather\u001b[0m\u001b[0;34m)\u001b[0m\u001b[0;34m\u001b[0m\u001b[0;34m\u001b[0m\u001b[0m\n\u001b[0m\u001b[1;32m     12\u001b[0m         \u001b[0;31m#print(\"??\",day_zero_weather,self.day_zero_num)\u001b[0m\u001b[0;34m\u001b[0m\u001b[0;34m\u001b[0m\u001b[0;34m\u001b[0m\u001b[0m\n\u001b[1;32m     13\u001b[0m     \u001b[0;34m@\u001b[0m\u001b[0mstaticmethod\u001b[0m\u001b[0;34m\u001b[0m\u001b[0;34m\u001b[0m\u001b[0m\n",
      "\u001b[0;32m<ipython-input-138-719dc4c755bc>\u001b[0m in \u001b[0;36mweather2num\u001b[0;34m(weather_string)\u001b[0m\n\u001b[1;32m     21\u001b[0m \u001b[0;34m\u001b[0m\u001b[0m\n\u001b[1;32m     22\u001b[0m         \u001b[0;32mif\u001b[0m \u001b[0mweather_num\u001b[0m \u001b[0;34m==\u001b[0m \u001b[0;34m-\u001b[0m\u001b[0;36m1\u001b[0m\u001b[0;34m:\u001b[0m\u001b[0;34m\u001b[0m\u001b[0;34m\u001b[0m\u001b[0m\n\u001b[0;32m---> 23\u001b[0;31m             \u001b[0;32mraise\u001b[0m \u001b[0mException\u001b[0m\u001b[0;34m(\u001b[0m\u001b[0;34m'Weather not recognized'\u001b[0m\u001b[0;34m)\u001b[0m\u001b[0;34m\u001b[0m\u001b[0;34m\u001b[0m\u001b[0m\n\u001b[0m\u001b[1;32m     24\u001b[0m \u001b[0;34m\u001b[0m\u001b[0m\n\u001b[1;32m     25\u001b[0m         \u001b[0;32mreturn\u001b[0m \u001b[0mweather_num\u001b[0m\u001b[0;34m\u001b[0m\u001b[0;34m\u001b[0m\u001b[0m\n",
      "\u001b[0;31mException\u001b[0m: Weather not recognized"
     ]
    }
   ],
   "source": [
    "weather_today = Markov()\n",
    "weather_today.load_data(file_path='./weather.csv')\n",
    "print(weather_today.get_prob('sunny', 'cloudy')) # This line should print 0.3"
   ]
  },
  {
   "cell_type": "code",
   "execution_count": null,
   "metadata": {},
   "outputs": [],
   "source": []
  },
  {
   "cell_type": "code",
   "execution_count": null,
   "metadata": {},
   "outputs": [],
   "source": []
  },
  {
   "cell_type": "code",
   "execution_count": null,
   "metadata": {},
   "outputs": [],
   "source": []
  }
 ],
 "metadata": {
  "kernelspec": {
   "display_name": "Python 3",
   "language": "python",
   "name": "python3"
  },
  "language_info": {
   "codemirror_mode": {
    "name": "ipython",
    "version": 3
   },
   "file_extension": ".py",
   "mimetype": "text/x-python",
   "name": "python",
   "nbconvert_exporter": "python",
   "pygments_lexer": "ipython3",
   "version": "3.8.3"
  }
 },
 "nbformat": 4,
 "nbformat_minor": 4
}
